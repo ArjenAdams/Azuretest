{
 "cells": [
  {
   "cell_type": "markdown",
   "id": "a61464b1",
   "metadata": {},
   "source": [
    "# Custom predictions\n",
    "\n",
    "In dit notebook staat de code die gebruikt kan worden om custom predictions uit het opgeslagen model te krijgen.\n",
    "\n",
    "Bij alle 'belangrijke stukken' staat er een kleine uitleg waarom, hoe of wat er gedaan wordt."
   ]
  },
  {
   "cell_type": "code",
   "execution_count": 1,
   "id": "e55a278c",
   "metadata": {},
   "outputs": [],
   "source": [
    "import numpy as np\n",
    "import joblib\n",
    "import pandas as pd"
   ]
  },
  {
   "cell_type": "markdown",
   "id": "5e369924",
   "metadata": {},
   "source": [
    "## Laad de pipeline in.\n",
    "\n",
    "Het opgeslagen model + preprocessing is in het 'Classification model + insights' notebook opgeslagen als een pipeline, daar deze pipeline in te laden kunnen wij hier predictions maken zonder het model opnieuw te moeten runnen"
   ]
  },
  {
   "cell_type": "code",
   "execution_count": 2,
   "id": "af74b6a8",
   "metadata": {},
   "outputs": [],
   "source": [
    "pipeline = joblib.load('pipeline.pkl')"
   ]
  },
  {
   "cell_type": "markdown",
   "id": "00d8e9a5",
   "metadata": {},
   "source": [
    "## laad de trainings data van het model in.\n",
    "\n",
    "In het 'Classification model + insights' notebook wordt de data dat gebruikt word om op te trainen opgeslagen in een csv, deze data wordt hier ingeladen om verderop de 'customer input' data om te zetten in een DataFrame (DF) met de juiste kolom namen."
   ]
  },
  {
   "cell_type": "code",
   "execution_count": 3,
   "id": "b70d0c09",
   "metadata": {},
   "outputs": [],
   "source": [
    "data = pd.read_csv(\"X_train.csv\", low_memory=False) \n",
    "df = pd.DataFrame(data)"
   ]
  },
  {
   "cell_type": "markdown",
   "id": "49ee6ee5",
   "metadata": {},
   "source": [
    "## Geef custom waardes\n",
    "\n",
    "Hier kan de gebruiker zelf waardes invullen die later omgezet gaan worden naar een DF, deze DF zal later als input gegeven worden aan het model.\n",
    "\n",
    "*Dit kan wellicht gedaan worden met een api via de backend? Als dat niet kan, kan het misschien op een of andere manier gedaan worden met de Python input() functie?"
   ]
  },
  {
   "cell_type": "code",
   "execution_count": 4,
   "id": "93c39d60",
   "metadata": {},
   "outputs": [],
   "source": [
    "input_data = np.array([['Medicare', 'WIDOWED', np.nan, 'C4372', 'icd_version', 23, np.nan, 'MED', np.nan]])"
   ]
  },
  {
   "cell_type": "code",
   "execution_count": 5,
   "id": "c50ec4cc",
   "metadata": {},
   "outputs": [],
   "source": [
    "# Convert the input data to a pandas DataFrame\n",
    "input_data_df = pd.DataFrame(input_data, columns=df.columns)"
   ]
  },
  {
   "cell_type": "code",
   "execution_count": 6,
   "id": "1644e40d",
   "metadata": {},
   "outputs": [
    {
     "data": {
      "text/html": [
       "<div>\n",
       "<style scoped>\n",
       "    .dataframe tbody tr th:only-of-type {\n",
       "        vertical-align: middle;\n",
       "    }\n",
       "\n",
       "    .dataframe tbody tr th {\n",
       "        vertical-align: top;\n",
       "    }\n",
       "\n",
       "    .dataframe thead th {\n",
       "        text-align: right;\n",
       "    }\n",
       "</style>\n",
       "<table border=\"1\" class=\"dataframe\">\n",
       "  <thead>\n",
       "    <tr style=\"text-align: right;\">\n",
       "      <th></th>\n",
       "      <th>herkomst</th>\n",
       "      <th>marital_status</th>\n",
       "      <th>race</th>\n",
       "      <th>diagnose</th>\n",
       "      <th>icd_version</th>\n",
       "      <th>duur_ok_minutes</th>\n",
       "      <th>length_of_stay_days</th>\n",
       "      <th>department</th>\n",
       "      <th>time_to_surgery_minutes</th>\n",
       "    </tr>\n",
       "  </thead>\n",
       "  <tbody>\n",
       "    <tr>\n",
       "      <th>0</th>\n",
       "      <td>Medicare</td>\n",
       "      <td>WIDOWED</td>\n",
       "      <td>nan</td>\n",
       "      <td>C4372</td>\n",
       "      <td>icd_version</td>\n",
       "      <td>23</td>\n",
       "      <td>nan</td>\n",
       "      <td>MED</td>\n",
       "      <td>nan</td>\n",
       "    </tr>\n",
       "  </tbody>\n",
       "</table>\n",
       "</div>"
      ],
      "text/plain": [
       "   herkomst marital_status race diagnose  icd_version duur_ok_minutes  \\\n",
       "0  Medicare        WIDOWED  nan    C4372  icd_version              23   \n",
       "\n",
       "  length_of_stay_days department time_to_surgery_minutes  \n",
       "0                 nan        MED                     nan  "
      ]
     },
     "execution_count": 6,
     "metadata": {},
     "output_type": "execute_result"
    }
   ],
   "source": [
    "input_data_df"
   ]
  },
  {
   "cell_type": "markdown",
   "id": "8830b9a9",
   "metadata": {},
   "source": [
    "## Geeft de gemaakte DF aan de pipeline.\n",
    "\n",
    "De DF die hierboven gemaakt is word hieronder als input gegeven aan de pipeline, de pipeline zorgt voor de nodige inputing/onehotencoding. Er wordt twee keer een voorspelling gedaan, predict() waar je alleen de uiteindelijke categorie terugkrijgt en predict_proba() waar je de lijst met kansen terug krijgt per categorie. Uit die tweede lijst wordt de kans/zekerheid gehaald van het model over deze voorspelling."
   ]
  },
  {
   "cell_type": "code",
   "execution_count": 7,
   "id": "47b05a70",
   "metadata": {},
   "outputs": [
    {
     "name": "stdout",
     "output_type": "stream",
     "text": [
      "Predicted Class: 0\n",
      "Predicted Class Probability: 0.5970017\n"
     ]
    }
   ],
   "source": [
    "predicted_class = pipeline.predict(input_data_df)\n",
    "predicted_prob = pipeline.predict_proba(input_data_df)\n",
    "\n",
    "# Print the predicted class label and class probabilities\n",
    "predicted_class_prob = predicted_prob[0][predicted_class[0]]\n",
    "print('Predicted Class:', predicted_class[0])\n",
    "print('Predicted Class Probability:', predicted_class_prob)"
   ]
  }
 ],
 "metadata": {
  "kernelspec": {
   "display_name": "Python 3 (ipykernel)",
   "language": "python",
   "name": "python3"
  },
  "language_info": {
   "codemirror_mode": {
    "name": "ipython",
    "version": 3
   },
   "file_extension": ".py",
   "mimetype": "text/x-python",
   "name": "python",
   "nbconvert_exporter": "python",
   "pygments_lexer": "ipython3",
   "version": "3.10.10"
  }
 },
 "nbformat": 4,
 "nbformat_minor": 5
}
