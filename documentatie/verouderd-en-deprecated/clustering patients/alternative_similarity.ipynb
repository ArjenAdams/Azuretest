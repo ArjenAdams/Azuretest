{
 "cells": [
  {
   "cell_type": "code",
   "execution_count": 9,
   "id": "afd704f8-e38f-400d-92df-b3604ef217f4",
   "metadata": {
    "tags": []
   },
   "outputs": [],
   "source": [
    "import sklearn.cluster as cl\n",
    "import sklearn.mixture as mi\n",
    "from sklearn.model_selection import train_test_split\n",
    "from sklearn.metrics import silhouette_score\n",
    "import pandas as pd\n",
    "import time\n",
    "import torch\n",
    "from torch import nn\n",
    "from torch.utils.data import DataLoader\n",
    "from numpy.linalg import norm\n",
    "from numpy import dot\n",
    "import seaborn as sns\n",
    "import matplotlib.pyplot as plt\n",
    "import numpy as np\n",
    "from sklearn.metrics.pairwise import pairwise_distances\n",
    "from sklearn.preprocessing import OneHotEncoder"
   ]
  },
  {
   "cell_type": "code",
   "execution_count": 10,
   "id": "172b9d7a-efd5-407c-951e-16e4ff358882",
   "metadata": {
    "tags": []
   },
   "outputs": [
    {
     "data": {
      "text/plain": "        Unnamed: 0  patient_id geslacht geboortedatum  opname_nummer  \\\n0                0    10000032        F    2180-09-09       22595853   \n1                1    10000032        F    2180-09-09       22841357   \n2                2    10000032        F    2180-09-09       25742920   \n3                3    10000068        F           NaN       25022803   \n4                4    10000117        F           NaN       27988844   \n...            ...         ...      ...           ...            ...   \n229416      229416    19999828        F           NaN       25744818   \n229417      229417    19999828        F           NaN       29734428   \n229418      229418    19999840        M    2164-09-17       21033226   \n229419      229419    19999840        M    2164-09-17       26071774   \n229420      229420    19999987        F           NaN       23865745   \n\n              zkh_opn_start  herkomst marital_status     race diagnose  \\\n0       2180-05-06 22:23:00     Other        WIDOWED    WHITE    07070   \n1       2180-06-26 18:27:00  Medicaid        WIDOWED    WHITE    07071   \n2       2180-08-05 23:44:00  Medicaid        WIDOWED    WHITE    07054   \n3       2160-03-03 23:16:00     Other         SINGLE    WHITE    30500   \n4       2183-09-18 18:10:00     Other       DIVORCED    WHITE    E7800   \n...                     ...       ...            ...      ...      ...   \n229416  2149-01-08 16:44:00     Other         SINGLE    WHITE     B954   \n229417  2147-07-18 16:23:00     Other         SINGLE    WHITE    B9620   \n229418  2164-09-10 13:47:00     Other        WIDOWED    WHITE     2724   \n229419  2164-07-25 00:27:00     Other        WIDOWED    WHITE     2724   \n229420  2145-11-02 21:38:00     Other        MARRIED  UNKNOWN     0413   \n\n        icd_version       start_operatie              endtime  \\\n0                 9  2180-05-06 19:17:00  2180-05-07 17:21:27   \n1                 9  2180-06-26 15:54:00  2180-06-27 18:49:12   \n2                 9  2180-08-05 20:58:00  2180-08-07 17:50:44   \n3                 9  2160-03-03 21:55:00  2160-03-04 07:33:47   \n4                10  2183-09-18 08:41:00  2183-09-21 16:30:30   \n...             ...                  ...                  ...   \n229416           10  2149-01-08 09:11:00  2149-01-18 18:44:40   \n229417           10  2147-07-17 17:18:00  2147-08-04 18:12:35   \n229418            9  2164-09-10 11:09:00  2164-09-17 16:35:15   \n229419            9  2164-07-24 21:16:00  2164-07-28 12:22:30   \n229420            9  2145-11-02 19:28:00  2145-11-11 13:00:47   \n\n        duur_ok_minutes  length_of_stay_days department  \\\n0           1324.450000             0.786111        MED   \n1           1615.200000             1.015278        MED   \n2           2692.733333             1.754167        MED   \n3            578.783333             0.298611        MED   \n4           4789.500000             2.930556      ORTHO   \n...                 ...                  ...        ...   \n229416     14973.666667            10.011111        MED   \n229417     25974.583333            17.074306       SURG   \n229418     10406.250000             6.996528        MED   \n229419      5226.500000             3.491667       NMED   \n229420     12572.783333             8.638194       NMED   \n\n        time_to_surgery_minutes  target  \n0                        -186.0       0  \n1                        -153.0       0  \n2                        -166.0       0  \n3                         -81.0       0  \n4                        -569.0       0  \n...                         ...     ...  \n229416                   -453.0       1  \n229417                  -1385.0       1  \n229418                   -158.0       1  \n229419                   -191.0       1  \n229420                   -130.0       1  \n\n[229421 rows x 18 columns]",
      "text/html": "<div>\n<style scoped>\n    .dataframe tbody tr th:only-of-type {\n        vertical-align: middle;\n    }\n\n    .dataframe tbody tr th {\n        vertical-align: top;\n    }\n\n    .dataframe thead th {\n        text-align: right;\n    }\n</style>\n<table border=\"1\" class=\"dataframe\">\n  <thead>\n    <tr style=\"text-align: right;\">\n      <th></th>\n      <th>Unnamed: 0</th>\n      <th>patient_id</th>\n      <th>geslacht</th>\n      <th>geboortedatum</th>\n      <th>opname_nummer</th>\n      <th>zkh_opn_start</th>\n      <th>herkomst</th>\n      <th>marital_status</th>\n      <th>race</th>\n      <th>diagnose</th>\n      <th>icd_version</th>\n      <th>start_operatie</th>\n      <th>endtime</th>\n      <th>duur_ok_minutes</th>\n      <th>length_of_stay_days</th>\n      <th>department</th>\n      <th>time_to_surgery_minutes</th>\n      <th>target</th>\n    </tr>\n  </thead>\n  <tbody>\n    <tr>\n      <th>0</th>\n      <td>0</td>\n      <td>10000032</td>\n      <td>F</td>\n      <td>2180-09-09</td>\n      <td>22595853</td>\n      <td>2180-05-06 22:23:00</td>\n      <td>Other</td>\n      <td>WIDOWED</td>\n      <td>WHITE</td>\n      <td>07070</td>\n      <td>9</td>\n      <td>2180-05-06 19:17:00</td>\n      <td>2180-05-07 17:21:27</td>\n      <td>1324.450000</td>\n      <td>0.786111</td>\n      <td>MED</td>\n      <td>-186.0</td>\n      <td>0</td>\n    </tr>\n    <tr>\n      <th>1</th>\n      <td>1</td>\n      <td>10000032</td>\n      <td>F</td>\n      <td>2180-09-09</td>\n      <td>22841357</td>\n      <td>2180-06-26 18:27:00</td>\n      <td>Medicaid</td>\n      <td>WIDOWED</td>\n      <td>WHITE</td>\n      <td>07071</td>\n      <td>9</td>\n      <td>2180-06-26 15:54:00</td>\n      <td>2180-06-27 18:49:12</td>\n      <td>1615.200000</td>\n      <td>1.015278</td>\n      <td>MED</td>\n      <td>-153.0</td>\n      <td>0</td>\n    </tr>\n    <tr>\n      <th>2</th>\n      <td>2</td>\n      <td>10000032</td>\n      <td>F</td>\n      <td>2180-09-09</td>\n      <td>25742920</td>\n      <td>2180-08-05 23:44:00</td>\n      <td>Medicaid</td>\n      <td>WIDOWED</td>\n      <td>WHITE</td>\n      <td>07054</td>\n      <td>9</td>\n      <td>2180-08-05 20:58:00</td>\n      <td>2180-08-07 17:50:44</td>\n      <td>2692.733333</td>\n      <td>1.754167</td>\n      <td>MED</td>\n      <td>-166.0</td>\n      <td>0</td>\n    </tr>\n    <tr>\n      <th>3</th>\n      <td>3</td>\n      <td>10000068</td>\n      <td>F</td>\n      <td>NaN</td>\n      <td>25022803</td>\n      <td>2160-03-03 23:16:00</td>\n      <td>Other</td>\n      <td>SINGLE</td>\n      <td>WHITE</td>\n      <td>30500</td>\n      <td>9</td>\n      <td>2160-03-03 21:55:00</td>\n      <td>2160-03-04 07:33:47</td>\n      <td>578.783333</td>\n      <td>0.298611</td>\n      <td>MED</td>\n      <td>-81.0</td>\n      <td>0</td>\n    </tr>\n    <tr>\n      <th>4</th>\n      <td>4</td>\n      <td>10000117</td>\n      <td>F</td>\n      <td>NaN</td>\n      <td>27988844</td>\n      <td>2183-09-18 18:10:00</td>\n      <td>Other</td>\n      <td>DIVORCED</td>\n      <td>WHITE</td>\n      <td>E7800</td>\n      <td>10</td>\n      <td>2183-09-18 08:41:00</td>\n      <td>2183-09-21 16:30:30</td>\n      <td>4789.500000</td>\n      <td>2.930556</td>\n      <td>ORTHO</td>\n      <td>-569.0</td>\n      <td>0</td>\n    </tr>\n    <tr>\n      <th>...</th>\n      <td>...</td>\n      <td>...</td>\n      <td>...</td>\n      <td>...</td>\n      <td>...</td>\n      <td>...</td>\n      <td>...</td>\n      <td>...</td>\n      <td>...</td>\n      <td>...</td>\n      <td>...</td>\n      <td>...</td>\n      <td>...</td>\n      <td>...</td>\n      <td>...</td>\n      <td>...</td>\n      <td>...</td>\n      <td>...</td>\n    </tr>\n    <tr>\n      <th>229416</th>\n      <td>229416</td>\n      <td>19999828</td>\n      <td>F</td>\n      <td>NaN</td>\n      <td>25744818</td>\n      <td>2149-01-08 16:44:00</td>\n      <td>Other</td>\n      <td>SINGLE</td>\n      <td>WHITE</td>\n      <td>B954</td>\n      <td>10</td>\n      <td>2149-01-08 09:11:00</td>\n      <td>2149-01-18 18:44:40</td>\n      <td>14973.666667</td>\n      <td>10.011111</td>\n      <td>MED</td>\n      <td>-453.0</td>\n      <td>1</td>\n    </tr>\n    <tr>\n      <th>229417</th>\n      <td>229417</td>\n      <td>19999828</td>\n      <td>F</td>\n      <td>NaN</td>\n      <td>29734428</td>\n      <td>2147-07-18 16:23:00</td>\n      <td>Other</td>\n      <td>SINGLE</td>\n      <td>WHITE</td>\n      <td>B9620</td>\n      <td>10</td>\n      <td>2147-07-17 17:18:00</td>\n      <td>2147-08-04 18:12:35</td>\n      <td>25974.583333</td>\n      <td>17.074306</td>\n      <td>SURG</td>\n      <td>-1385.0</td>\n      <td>1</td>\n    </tr>\n    <tr>\n      <th>229418</th>\n      <td>229418</td>\n      <td>19999840</td>\n      <td>M</td>\n      <td>2164-09-17</td>\n      <td>21033226</td>\n      <td>2164-09-10 13:47:00</td>\n      <td>Other</td>\n      <td>WIDOWED</td>\n      <td>WHITE</td>\n      <td>2724</td>\n      <td>9</td>\n      <td>2164-09-10 11:09:00</td>\n      <td>2164-09-17 16:35:15</td>\n      <td>10406.250000</td>\n      <td>6.996528</td>\n      <td>MED</td>\n      <td>-158.0</td>\n      <td>1</td>\n    </tr>\n    <tr>\n      <th>229419</th>\n      <td>229419</td>\n      <td>19999840</td>\n      <td>M</td>\n      <td>2164-09-17</td>\n      <td>26071774</td>\n      <td>2164-07-25 00:27:00</td>\n      <td>Other</td>\n      <td>WIDOWED</td>\n      <td>WHITE</td>\n      <td>2724</td>\n      <td>9</td>\n      <td>2164-07-24 21:16:00</td>\n      <td>2164-07-28 12:22:30</td>\n      <td>5226.500000</td>\n      <td>3.491667</td>\n      <td>NMED</td>\n      <td>-191.0</td>\n      <td>1</td>\n    </tr>\n    <tr>\n      <th>229420</th>\n      <td>229420</td>\n      <td>19999987</td>\n      <td>F</td>\n      <td>NaN</td>\n      <td>23865745</td>\n      <td>2145-11-02 21:38:00</td>\n      <td>Other</td>\n      <td>MARRIED</td>\n      <td>UNKNOWN</td>\n      <td>0413</td>\n      <td>9</td>\n      <td>2145-11-02 19:28:00</td>\n      <td>2145-11-11 13:00:47</td>\n      <td>12572.783333</td>\n      <td>8.638194</td>\n      <td>NMED</td>\n      <td>-130.0</td>\n      <td>1</td>\n    </tr>\n  </tbody>\n</table>\n<p>229421 rows × 18 columns</p>\n</div>"
     },
     "execution_count": 10,
     "metadata": {},
     "output_type": "execute_result"
    }
   ],
   "source": [
    "df = pd.read_csv(\"DES.csv\")\n",
    "df"
   ]
  },
  {
   "cell_type": "code",
   "execution_count": 11,
   "id": "fbdd8f66-24a2-40be-893d-beb5d13bbcde",
   "metadata": {
    "tags": []
   },
   "outputs": [],
   "source": [
    "dfClean = df.drop(columns=['Unnamed: 0', \"patient_id\", \"geboortedatum\", \"opname_nummer\", \"zkh_opn_start\", \"icd_version\", \"start_operatie\", \"endtime\", \"duur_ok_minutes\", \"length_of_stay_days\", \"time_to_surgery_minutes\", \"target\", \"diagnose\"])"
   ]
  },
  {
   "cell_type": "code",
   "execution_count": 12,
   "id": "f43388c5",
   "metadata": {
    "tags": []
   },
   "outputs": [],
   "source": [
    "def get_similarity_list(data,target_index,\n",
    "                        method = 'jaccard',\n",
    "                        sort = 'descending',\n",
    "                        n_items = -1,\n",
    "                        unique_only = False,\n",
    "                        exclude_self = True\n",
    "                       ):\n",
    "    \"\"\"\n",
    "    This function produces a list of dictionaries based on the similarity between a target item and other items in a dataset.\n",
    "\n",
    "    :param data: a dataframe of the dataset\n",
    "    :param target_index: the index of the item you want to compare all other items against\n",
    "    :param method: the distance method e.g. jaccard, hamming, dice, etc. all methods can be found in the scipy spatial.distance docs: https://docs.scipy.org/doc/scipy/reference/spatial.distance.html\n",
    "    :param sort: ascending, descending or None (None defaults to sorting on index)\n",
    "    :param n_items: the number of items to return\n",
    "    :param unique_only: True if you want to compare the target against unique items only, False if you want to compare the target against all items\n",
    "    :param exclude_self: True if you want to exclude the target, False if you want to include the target\n",
    "    :return: A list of dictionaries with keys: index, similarity, n_duplicates}\n",
    "            index: the index of the item in the dataframe\n",
    "            similarity: the similarity measure between an item and the target item\n",
    "            n_duplicates: the number of items with the same columns\n",
    "    \"\"\"\n",
    "    \n",
    "    \n",
    "    \n",
    "    # one hot encode the data so that it works with every distance method    \n",
    "    one_hot_data = OneHotEncoder(dtype = bool).fit_transform(data).toarray()\n",
    "    \n",
    "    similarity_df = data.copy()\n",
    "    \n",
    "    # 1- the distance score, is the similarity score\n",
    "    similarity_df['similarity'] = list(1-pairwise_distances(one_hot_data, Y = np.array(one_hot_data[target_index]).reshape(-1,1).T, metric = method)[:,0])\n",
    "    \n",
    "    #calculate the number of duplicates for every item in the data\n",
    "    similarity_df['n_duplicates'] = data.groupby(list(data.columns), sort=False)[(list(data.columns))[0]].transform('size') - 1\n",
    "    \n",
    "    similarity_df['index'] = similarity_df.index\n",
    "    \n",
    "    if unique_only:\n",
    "        similarity_df = similarity_df.drop_duplicates(subset = list(similarity_df.drop(columns = ['index','similarity','n_duplicates']).columns))\n",
    "        \n",
    "    if exclude_self:\n",
    "        similarity_df = similarity_df.drop(index=similarity_df.iloc[target_index].name)\n",
    "        \n",
    "    similarity_list = similarity_df[['index','similarity','n_duplicates']].to_dict('records')\n",
    "    \n",
    "    if sort == 'descending':\n",
    "        sort_direction = -1\n",
    "    elif sort == 'ascending':\n",
    "        sort_direction = 1\n",
    "    else:\n",
    "        return similarity_list[:n_items]\n",
    "        \n",
    "    return sorted(similarity_list, key=lambda d: d['similarity'])[::sort_direction][:n_items]\n",
    "        "
   ]
  },
  {
   "cell_type": "code",
   "execution_count": 13,
   "id": "b10c04ca",
   "metadata": {
    "tags": []
   },
   "outputs": [
    {
     "data": {
      "text/plain": "[{'index': 202812, 'similarity': 0.6666666666666667, 'n_duplicates': 1},\n {'index': 136394, 'similarity': 0.6666666666666667, 'n_duplicates': 5},\n {'index': 110493, 'similarity': 0.6666666666666667, 'n_duplicates': 3},\n {'index': 103416, 'similarity': 0.6666666666666667, 'n_duplicates': 0},\n {'index': 96734, 'similarity': 0.6666666666666667, 'n_duplicates': 2},\n {'index': 81782, 'similarity': 0.6666666666666667, 'n_duplicates': 3},\n {'index': 71180, 'similarity': 0.6666666666666667, 'n_duplicates': 1},\n {'index': 67034, 'similarity': 0.6666666666666667, 'n_duplicates': 0},\n {'index': 64980, 'similarity': 0.6666666666666667, 'n_duplicates': 4},\n {'index': 63125, 'similarity': 0.6666666666666667, 'n_duplicates': 4}]"
     },
     "execution_count": 13,
     "metadata": {},
     "output_type": "execute_result"
    }
   ],
   "source": [
    "get_similarity_list(data = dfClean,\n",
    "                    target_index = 0,\n",
    "                    method = 'jaccard',\n",
    "                    sort = \"descending\",\n",
    "                    n_items = 10,\n",
    "                    unique_only = True,\n",
    "                    exclude_self = True\n",
    "                   )"
   ]
  },
  {
   "cell_type": "code",
   "execution_count": 14,
   "id": "181fa169-c5d7-451c-b576-e36b6c8e9043",
   "metadata": {},
   "outputs": [
    {
     "data": {
      "text/plain": "geslacht                F\nherkomst            Other\nmarital_status    WIDOWED\nrace                WHITE\ndepartment            MED\nName: 0, dtype: object"
     },
     "execution_count": 14,
     "metadata": {},
     "output_type": "execute_result"
    }
   ],
   "source": [
    "dfClean.loc[0]"
   ]
  },
  {
   "cell_type": "code",
   "execution_count": 15,
   "id": "c0e7423b-a5d5-43a3-8bc7-0d8dae60960f",
   "metadata": {
    "tags": []
   },
   "outputs": [
    {
     "data": {
      "text/plain": "geslacht                 F\nherkomst          Medicaid\nmarital_status     WIDOWED\nrace                 WHITE\ndepartment             MED\nName: 1, dtype: object"
     },
     "execution_count": 15,
     "metadata": {},
     "output_type": "execute_result"
    }
   ],
   "source": [
    "dfClean.loc[1]"
   ]
  }
 ],
 "metadata": {
  "kernelspec": {
   "display_name": "Python 3 (ipykernel)",
   "language": "python",
   "name": "python3"
  },
  "language_info": {
   "codemirror_mode": {
    "name": "ipython",
    "version": 3
   },
   "file_extension": ".py",
   "mimetype": "text/x-python",
   "name": "python",
   "nbconvert_exporter": "python",
   "pygments_lexer": "ipython3",
   "version": "3.10.4"
  }
 },
 "nbformat": 4,
 "nbformat_minor": 5
}
